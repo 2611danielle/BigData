{
 "cells": [
  {
   "cell_type": "markdown",
   "metadata": {},
   "source": [
    "Assimetria e Curtose:\n",
    "Assimetria é uma medida que nos indica a TENDÊNCIA DA DISTRIBUIÇÃO dos dados para o lado dos valores menores e maiores. Para obtê-la, utilizamos o método do Pandas chamado skew().\n",
    "Como vou interpretar meus dados:\n",
    "1. Assimetria >= -0.5 e Assimetria <= 0.5: distribuição SIMÉTRICA (média aproximadamente igual à mediana);\n",
    "2. Assimetria > 0.5: distribuição ASSIMÉTRICA POSITIVA (média maior que a mediana; distribuição tendendo mais à direita);\n",
    "3. Assimetria < -0.5: distribuição ASSIMÉTRICA NEGATIVA (média menor que a mediana; distribuição tendendo mais à esquerda)."
   ]
  },
  {
   "cell_type": "code",
   "execution_count": 10,
   "metadata": {},
   "outputs": [],
   "source": [
    "import numpy as np \n",
    "import pandas as pd\n",
    "import matplotlib.pyplot as plt"
   ]
  },
  {
   "cell_type": "code",
   "execution_count": 11,
   "metadata": {},
   "outputs": [
    {
     "data": {
      "text/html": [
       "<div>\n",
       "<style scoped>\n",
       "    .dataframe tbody tr th:only-of-type {\n",
       "        vertical-align: middle;\n",
       "    }\n",
       "\n",
       "    .dataframe tbody tr th {\n",
       "        vertical-align: top;\n",
       "    }\n",
       "\n",
       "    .dataframe thead th {\n",
       "        text-align: right;\n",
       "    }\n",
       "</style>\n",
       "<table border=\"1\" class=\"dataframe\">\n",
       "  <thead>\n",
       "    <tr style=\"text-align: right;\">\n",
       "      <th></th>\n",
       "      <th>Salário</th>\n",
       "    </tr>\n",
       "  </thead>\n",
       "  <tbody>\n",
       "    <tr>\n",
       "      <th>0</th>\n",
       "      <td>2500</td>\n",
       "    </tr>\n",
       "    <tr>\n",
       "      <th>1</th>\n",
       "      <td>2700</td>\n",
       "    </tr>\n",
       "    <tr>\n",
       "      <th>2</th>\n",
       "      <td>4000</td>\n",
       "    </tr>\n",
       "    <tr>\n",
       "      <th>3</th>\n",
       "      <td>4500</td>\n",
       "    </tr>\n",
       "    <tr>\n",
       "      <th>4</th>\n",
       "      <td>4800</td>\n",
       "    </tr>\n",
       "    <tr>\n",
       "      <th>5</th>\n",
       "      <td>5000</td>\n",
       "    </tr>\n",
       "    <tr>\n",
       "      <th>6</th>\n",
       "      <td>5200</td>\n",
       "    </tr>\n",
       "    <tr>\n",
       "      <th>7</th>\n",
       "      <td>6000</td>\n",
       "    </tr>\n",
       "    <tr>\n",
       "      <th>8</th>\n",
       "      <td>8000</td>\n",
       "    </tr>\n",
       "    <tr>\n",
       "      <th>9</th>\n",
       "      <td>15000</td>\n",
       "    </tr>\n",
       "  </tbody>\n",
       "</table>\n",
       "</div>"
      ],
      "text/plain": [
       "   Salário\n",
       "0     2500\n",
       "1     2700\n",
       "2     4000\n",
       "3     4500\n",
       "4     4800\n",
       "5     5000\n",
       "6     5200\n",
       "7     6000\n",
       "8     8000\n",
       "9    15000"
      ]
     },
     "metadata": {},
     "output_type": "display_data"
    }
   ],
   "source": [
    "salarios={'Salário': [2500,2700,4000,4500,4800,5000,5200,6000,8000,15000]}\n",
    "df_salarios=pd.DataFrame(salarios)\n",
    "display(df_salarios)"
   ]
  },
  {
   "cell_type": "code",
   "execution_count": 12,
   "metadata": {},
   "outputs": [
    {
     "name": "stdout",
     "output_type": "stream",
     "text": [
      "Assimetria:2.1480772122783733\n",
      "Média:5770.0\n",
      "Mediana:4900.0\n"
     ]
    }
   ],
   "source": [
    "#Calculando Assimetria\n",
    "assimetria=df_salarios['Salário'].skew()\n",
    "media=df_salarios['Salário'].mean()\n",
    "mediana=df_salarios['Salário'].median()\n",
    "\n",
    "print(f'Assimetria:{assimetria}')\n",
    "print(f'Média:{media}')\n",
    "print(f'Mediana:{mediana}')"
   ]
  },
  {
   "cell_type": "code",
   "execution_count": 13,
   "metadata": {},
   "outputs": [
    {
     "name": "stdout",
     "output_type": "stream",
     "text": [
      "Distribuição Assimétrica Negativa\n"
     ]
    }
   ],
   "source": [
    "#Interperetação\n",
    "if -0.5 <= assimetria <= 0.5:\n",
    "    resultado=\"Distribuição Simétrica\"\n",
    "elif assimetria <0.5:\n",
    "    resultado=\"Distribuição Assimetrica Positiva\"\n",
    "else:\n",
    "    resultado=\"Distribuição Assimétrica Negativa\"\n",
    "\n",
    "print(resultado)\n",
    "\n"
   ]
  },
  {
   "cell_type": "code",
   "execution_count": 14,
   "metadata": {},
   "outputs": [
    {
     "name": "stdout",
     "output_type": "stream",
     "text": [
      "Curtose:5.355656026511837\n"
     ]
    }
   ],
   "source": [
    "#Calculando a Curtose\n",
    "curtose=df_salarios['Salário'].kurtosis()\n",
    "print(f'Curtose:{curtose}')"
   ]
  },
  {
   "cell_type": "code",
   "execution_count": 17,
   "metadata": {},
   "outputs": [
    {
     "name": "stdout",
     "output_type": "stream",
     "text": [
      "Distribuição Leptocúrtica\n"
     ]
    }
   ],
   "source": [
    "#Interpretação\n",
    "if 2.5 <= curtose <=3.5:\n",
    "    resultado2=\"Distribuição Mesocúrtica\"\n",
    "elif curtose < 2.5:\n",
    "    resultado2=\"Distribuição Platicúrtica\"\n",
    "else:\n",
    "    resultado2=\"Distribuição Leptocúrtica\"\n",
    "\n",
    "print(resultado2)"
   ]
  },
  {
   "cell_type": "markdown",
   "metadata": {},
   "source": [
    "Atividade: Atualize o resumo estatístico da sua amostra random com:\n",
    "* nível de curtose"
   ]
  },
  {
   "cell_type": "code",
   "execution_count": 16,
   "metadata": {},
   "outputs": [
    {
     "data": {
      "image/png": "[encoded data removed]",
      "text/plain": [
       "<Figure size 640x480 with 1 Axes>"
      ]
     },
     "metadata": {},
     "output_type": "display_data"
    }
   ],
   "source": [
    "plt.boxplot(df_salarios['Salário'])\n",
    "plt.title('Boxplot dos Salário')\n",
    "plt.ylabel('Salário')\n",
    "plt.show()"
   ]
  }
 ],
 "metadata": {
  "kernelspec": {
   "display_name": "nomedoambientevirtual",
   "language": "python",
   "name": "python3"
  },
  "language_info": {
   "codemirror_mode": {
    "name": "ipython",
    "version": 3
   },
   "file_extension": ".py",
   "mimetype": "text/x-python",
   "name": "python",
   "nbconvert_exporter": "python",
   "pygments_lexer": "ipython3",
   "version": "3.11.4"
  },
  "orig_nbformat": 4
 },
 "nbformat": 4,
 "nbformat_minor": 2
}
