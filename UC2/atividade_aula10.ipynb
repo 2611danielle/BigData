{
 "cells": [
  {
   "cell_type": "code",
   "execution_count": 1,
   "metadata": {},
   "outputs": [],
   "source": [
    "import numpy as np \n",
    "import pandas as pd"
   ]
  },
  {
   "cell_type": "code",
   "execution_count": 2,
   "metadata": {},
   "outputs": [],
   "source": [
    "amostra=np.array([2,3,5,8,12,13,16,22,24,26,\n",
    "                  31,35,44,48,50,53,60,62,71,80,\n",
    "                  88,90,99,101,104,111,107,116,120,126,\n",
    "                  131,135,144,148,150,153,160,162,171,180,\n",
    "                  188,191,199,200,202,204,350,440,480,500])"
   ]
  },
  {
   "cell_type": "code",
   "execution_count": 9,
   "metadata": {},
   "outputs": [
    {
     "name": "stdout",
     "output_type": "stream",
     "text": [
      "124.3\n"
     ]
    }
   ],
   "source": [
    "dados=np.array(amostra)\n",
    "media=np.mean(amostra)\n",
    "print(media)"
   ]
  },
  {
   "cell_type": "code",
   "execution_count": 3,
   "metadata": {},
   "outputs": [
    {
     "name": "stdout",
     "output_type": "stream",
     "text": [
      "12848.65\n",
      "113.35188573640934\n"
     ]
    }
   ],
   "source": [
    "variancia=np.var(amostra)\n",
    "print(variancia)\n",
    "\n",
    "desviopadrao=np.std(amostra)\n",
    "print(desviopadrao)"
   ]
  },
  {
   "cell_type": "code",
   "execution_count": 4,
   "metadata": {},
   "outputs": [
    {
     "name": "stdout",
     "output_type": "stream",
     "text": [
      "13110.867346938776\n",
      "114.50269580642534\n"
     ]
    }
   ],
   "source": [
    "amostra2=pd.Series(amostra)\n",
    "variancia=amostra2.var()\n",
    "print(variancia)\n",
    "\n",
    "desviopadrao=amostra2.std()\n",
    "print(desviopadrao)"
   ]
  },
  {
   "cell_type": "code",
   "execution_count": 17,
   "metadata": {},
   "outputs": [
    {
     "name": "stdout",
     "output_type": "stream",
     "text": [
      "0.9211801754338321\n",
      "84.85729156123058 %\n"
     ]
    }
   ],
   "source": [
    "coef_variacao=desviopadrao/media\n",
    "print(coef_variacao)\n",
    "\n",
    "distancia=variancia/(media**2)\n",
    "print(distancia*100,'%')"
   ]
  },
  {
   "cell_type": "code",
   "execution_count": 16,
   "metadata": {},
   "outputs": [
    {
     "ename": "SyntaxError",
     "evalue": "invalid syntax (176237564.py, line 2)",
     "output_type": "error",
     "traceback": [
      "\u001b[1;36m  Cell \u001b[1;32mIn[16], line 2\u001b[1;36m\u001b[0m\n\u001b[1;33m    if distancia > 10% e <= 25%:\u001b[0m\n\u001b[1;37m                               ^\u001b[0m\n\u001b[1;31mSyntaxError\u001b[0m\u001b[1;31m:\u001b[0m invalid syntax\n"
     ]
    }
   ],
   "source": [
    "\n",
    "\n",
    "if distancia <= 10%:\n",
    "    print ('Dispersão Baixa')\n",
    "if distancia > 10% e <= 25%:\n",
    "    print('Dispersão Moderada')\n",
    "else distancia > 25%:\n",
    "    print('Dispersão Alta')"
   ]
  }
 ],
 "metadata": {
  "kernelspec": {
   "display_name": "nomedoambientevirtual",
   "language": "python",
   "name": "python3"
  },
  "language_info": {
   "codemirror_mode": {
    "name": "ipython",
    "version": 3
   },
   "file_extension": ".py",
   "mimetype": "text/x-python",
   "name": "python",
   "nbconvert_exporter": "python",
   "pygments_lexer": "ipython3",
   "version": "3.11.4"
  },
  "orig_nbformat": 4
 },
 "nbformat": 4,
 "nbformat_minor": 2
}
