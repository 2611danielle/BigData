{
 "cells": [
  {
   "cell_type": "code",
   "execution_count": 7,
   "metadata": {},
   "outputs": [
    {
     "ename": "SyntaxError",
     "evalue": "invalid syntax (448970836.py, line 3)",
     "output_type": "error",
     "traceback": [
      "\u001b[1;36m  Cell \u001b[1;32mIn[7], line 3\u001b[1;36m\u001b[0m\n\u001b[1;33m    *Criando uma tabela*\u001b[0m\n\u001b[1;37m             ^\u001b[0m\n\u001b[1;31mSyntaxError\u001b[0m\u001b[1;31m:\u001b[0m invalid syntax\n"
     ]
    }
   ],
   "source": [
    "# Seção 4\n",
    "\n",
    "*Criando uma tabela*\n",
    "\n",
    "|Aluno|Nota 1|Nota 2|Nota 3|\n",
    "|---|---|---|---|\n",
    "|João da Silva|10.0|5.5|4.5|\n",
    "|Maria|9.5|9|8.7|\n",
    "\n",
    "**Criando uma Lista Numerada**\n",
    "\n",
    "1. Módulo 1;\n",
    "2. Módulo 2;\n",
    "3. Módulo 3;\n",
    "4. Módulo 4;\n",
    "5. Módulo 5.\n",
    "\n",
    "**Criando uma Lista com Marcadores**\n",
    "\n",
    "* Módulo 1;\n",
    "* Módulo 1;\n",
    "* Módulo 2;\n",
    "* Módulo 3;\n",
    "* Módulo 4;\n",
    "* Módulo 5.\n",
    "\n",
    "**Colocando uma Imagem**\n",
    "\n",
    "![](https://encrypted-tbn0.gstatic.com/images?q=tbn:ANd9GcSgzPpvWLqznqgz7Y8DI-zZHDKLLzma9XHuXsz39I6vdQ&s)\n",
    "\n",
    "![](https://upload.wikimedia.org/wikipedia/pt/c/cd/Nazar%C3%A9_Confusa.jpg)\n",
    "\n",
    "![](https://s2.glbimg.com/yj8shGg_RGO8934ViubP2aSjYOA=/480x0/smart/filters:strip_icc()/i.s3.glbimg.com/v1/AUTH_08fbf48bc0524877943fe86e43087e7a/internal_photos/bs/2023/r/i/lPgLATQ7iBy4bu9wX5VQ/lanaexplicit-gretchen-meme-eu-teria-vergonha-disso-.jpg)"
   ]
  },
  {
   "cell_type": "markdown",
   "metadata": {},
   "source": [
    "*Criando uma tabela*\n",
    "\n",
    "|Aluno|Nota 1|Nota 2|Nota 3|\n",
    "|---|---|---|---|\n",
    "|João da Silva|10.0|5.5|4.5|\n",
    "|Maria|9.5|9|8.7|\n",
    "\n",
    "**Criando uma Lista Numerada**\n",
    "\n",
    "1. Módulo 1;\n",
    "2. Módulo 2;\n",
    "3. Módulo 3;\n",
    "4. Módulo 4;\n",
    "5. Módulo 5.\n",
    "\n",
    "**Criando uma Lista com Marcadores**\n",
    "\n",
    "* Módulo 1;\n",
    "* Módulo 1;\n",
    "* Módulo 2;\n",
    "* Módulo 3;\n",
    "* Módulo 4;\n",
    "* Módulo 5.\n",
    "\n",
    "**Colocando uma Imagem**\n",
    "\n",
    "![](https://encrypted-tbn0.gstatic.com/images?q=tbn:ANd9GcSgzPpvWLqznqgz7Y8DI-zZHDKLLzma9XHuXsz39I6vdQ&s)\n",
    "\n",
    "![](https://upload.wikimedia.org/wikipedia/pt/c/cd/Nazar%C3%A9_Confusa.jpg)\n",
    "\n",
    "![](https://s2.glbimg.com/yj8shGg_RGO8934ViubP2aSjYOA=/480x0/smart/filters:strip_icc()/i.s3.glbimg.com/v1/AUTH_08fbf48bc0524877943fe86e43087e7a/internal_photos/bs/2023/r/i/lPgLATQ7iBy4bu9wX5VQ/lanaexplicit-gretchen-meme-eu-teria-vergonha-disso-.jpg)"
   ]
  }
 ],
 "metadata": {
  "kernelspec": {
   "display_name": "nomedoambientevirtual",
   "language": "python",
   "name": "python3"
  },
  "language_info": {
   "codemirror_mode": {
    "name": "ipython",
    "version": 3
   },
   "file_extension": ".py",
   "mimetype": "text/x-python",
   "name": "python",
   "nbconvert_exporter": "python",
   "pygments_lexer": "ipython3",
   "version": "3.11.4"
  },
  "orig_nbformat": 4
 },
 "nbformat": 4,
 "nbformat_minor": 2
}
