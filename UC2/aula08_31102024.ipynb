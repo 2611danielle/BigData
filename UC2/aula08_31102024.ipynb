{
 "cells": [
  {
   "cell_type": "markdown",
   "metadata": {},
   "source": [
    "** Medidas de Tendência Central com Numpy:**"
   ]
  },
  {
   "cell_type": "code",
   "execution_count": 1,
   "metadata": {},
   "outputs": [],
   "source": [
    "import numpy as np \n"
   ]
  },
  {
   "cell_type": "code",
   "execution_count": 2,
   "metadata": {},
   "outputs": [],
   "source": [
    "amostra=np.array([2500,3200,2700,3000,3400,3700,4500,4700,5000,5200,6000,7000])\n"
   ]
  },
  {
   "cell_type": "code",
   "execution_count": 4,
   "metadata": {},
   "outputs": [
    {
     "name": "stdout",
     "output_type": "stream",
     "text": [
      "Média: 4241.666666666667\n",
      "Mediana: 4100.0\n"
     ]
    }
   ],
   "source": [
    "media=np.mean(amostra)\n",
    "mediana=np.median(amostra)\n",
    "print(f'Média: {media}')\n",
    "print(f'Mediana: {mediana}')"
   ]
  },
  {
   "cell_type": "code",
   "execution_count": 5,
   "metadata": {},
   "outputs": [
    {
     "name": "stdout",
     "output_type": "stream",
     "text": [
      "Distância entre média e mediana: 3.46%\n"
     ]
    }
   ],
   "source": [
    "distancia=(media-mediana)/mediana*100\n",
    "print(f'Distância entre média e mediana: {distancia:.2f}%')"
   ]
  },
  {
   "cell_type": "markdown",
   "metadata": {},
   "source": [
    "Como eu devo interpretar isso?\n",
    "Se:\n",
    "1. Distãncia <= |10%|: a minha média é CONFIÁVEL;\n",
    "2. 10% > Distância < 25%: existe uma influência MODERADA de valores extremos;\n",
    "3. Distância >= |25%|: existe ALTA influência dos valores extremos."
   ]
  },
  {
   "cell_type": "markdown",
   "metadata": {},
   "source": [
    "ATIVIDADE ASSISTIDA: Crie uma array com 50 números aleatórios e repitam a análise sobre a distância calculada anterior para a nova amostra. "
   ]
  },
  {
   "cell_type": "code",
   "execution_count": 6,
   "metadata": {},
   "outputs": [],
   "source": [
    "amostra=np.array([2,3,5,8,12,13,16,22,24,26,\n",
    "                  31,35,44,48,50,53,60,62,71,80,\n",
    "                  88,90,99,101,104,111,107,116,120,126,\n",
    "                  131,135,144,148,150,153,160,162,171,180,\n",
    "                  188,191,199,200,202,204,350,440,480,500])"
   ]
  },
  {
   "cell_type": "code",
   "execution_count": 10,
   "metadata": {},
   "outputs": [],
   "source": [
    "dados=np.array(amostra)\n",
    "media=np.mean(amostra)\n",
    "mediana=np.median(amostra)\n",
    "distancia=(media-mediana)/mediana*100\n",
    "q1=np.percentile(dados, 25)\n",
    "q2=np.percentile(dados, 50)\n",
    "q3=np.percentile(dados, 75)\n"
   ]
  },
  {
   "cell_type": "code",
   "execution_count": 15,
   "metadata": {},
   "outputs": [
    {
     "name": "stdout",
     "output_type": "stream",
     "text": [
      "Média: 124.3\n",
      "Mediana: 105.5\n",
      "Distância entre média e mediana: 17.82%\n",
      "Primeiro Quartil(Q1): 45.0\n",
      "Segundo Quartil(Q2): 105.5\n",
      "Terceiro Quartil(Q3): 161.5\n",
      "Intervalo InterQuartil: 116.5\n",
      "Limite Superior: 336.25\n",
      "Limite Inferior: -129.75\n"
     ]
    }
   ],
   "source": [
    "#Cálculos para verificação do Intervalo InterQuartil (IQR) e seus limites:\n",
    "\n",
    "iqr=q3-q1\n",
    "limite_superior=q3+(1.5*iqr)\n",
    "limite_inferior=q1-(1.5*iqr)\n",
    "\n",
    "#Resumo das Estatísticas:\n",
    "print(f'Média: {media}')\n",
    "print(f'Mediana: {mediana}')\n",
    "print(f'Distância entre média e mediana: {distancia:.2f}%')\n",
    "print(f\"Primeiro Quartil(Q1): {q1}\")\n",
    "print(f\"Segundo Quartil(Q2): {q2}\")\n",
    "print(f\"Terceiro Quartil(Q3): {q3}\")\n",
    "print(f'Intervalo InterQuartil: {iqr}')\n",
    "print(f'Limite Superior: {limite_superior}')\n",
    "print(f'Limite Inferior: {limite_inferior}')"
   ]
  },
  {
   "cell_type": "code",
   "execution_count": 16,
   "metadata": {},
   "outputs": [
    {
     "name": "stdout",
     "output_type": "stream",
     "text": [
      "A média está DENTRO do intervalo interquartil, o que sugere confiabilidade\n"
     ]
    }
   ],
   "source": [
    "if q1 <= media <= q3:\n",
    "    print('A média está DENTRO do intervalo interquartil, o que sugere confiabilidade')\n",
    "else:\n",
    "    print('A média está FORA do intervalo interquartil, o que sugere MENOS confiabilidade')"
   ]
  }
 ],
 "metadata": {
  "kernelspec": {
   "display_name": "nomedoambientevirtual",
   "language": "python",
   "name": "python3"
  },
  "language_info": {
   "codemirror_mode": {
    "name": "ipython",
    "version": 3
   },
   "file_extension": ".py",
   "mimetype": "text/x-python",
   "name": "python",
   "nbconvert_exporter": "python",
   "pygments_lexer": "ipython3",
   "version": "3.11.4"
  },
  "orig_nbformat": 4
 },
 "nbformat": 4,
 "nbformat_minor": 2
}
