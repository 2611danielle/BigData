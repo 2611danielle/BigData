{
 "cells": [
  {
   "cell_type": "markdown",
   "metadata": {},
   "source": [
    "**variância, Desvio-Padrão e Coeficiente de Variação:**"
   ]
  },
  {
   "cell_type": "code",
   "execution_count": 1,
   "metadata": {},
   "outputs": [],
   "source": [
    "import numpy as np \n",
    "import pandas as pd"
   ]
  },
  {
   "cell_type": "code",
   "execution_count": 2,
   "metadata": {},
   "outputs": [],
   "source": [
    "amostra=np.array([2500,3200,2700,3000,3400,3700,4500,4700,5000,5200,6000,7000])\n"
   ]
  },
  {
   "cell_type": "code",
   "execution_count": 3,
   "metadata": {},
   "outputs": [
    {
     "name": "stdout",
     "output_type": "stream",
     "text": [
      "4241.666666666667\n"
     ]
    }
   ],
   "source": [
    "media=np.mean(amostra)\n",
    "print(media)\n",
    "#media=sum(amostra)/len(amostra)"
   ]
  },
  {
   "cell_type": "code",
   "execution_count": 4,
   "metadata": {},
   "outputs": [
    {
     "data": {
      "text/plain": [
       "[np.float64(-1741.666666666667),\n",
       " np.float64(-1041.666666666667),\n",
       " np.float64(-1541.666666666667),\n",
       " np.float64(-1241.666666666667),\n",
       " np.float64(-841.666666666667),\n",
       " np.float64(-541.666666666667),\n",
       " np.float64(258.33333333333303),\n",
       " np.float64(458.33333333333303),\n",
       " np.float64(758.333333333333),\n",
       " np.float64(958.333333333333),\n",
       " np.float64(1758.333333333333),\n",
       " np.float64(2758.333333333333)]"
      ]
     },
     "metadata": {},
     "output_type": "display_data"
    }
   ],
   "source": [
    "#diferença em relação à média\n",
    "diferencas=[x - media for x in amostra]\n",
    "display(diferencas)\n"
   ]
  },
  {
   "cell_type": "code",
   "execution_count": 5,
   "metadata": {},
   "outputs": [
    {
     "data": {
      "text/plain": [
       "[np.float64(3033402.777777779),\n",
       " np.float64(1085069.444444445),\n",
       " np.float64(2376736.111111112),\n",
       " np.float64(1541736.111111112),\n",
       " np.float64(708402.7777777783),\n",
       " np.float64(293402.7777777781),\n",
       " np.float64(66736.11111111095),\n",
       " np.float64(210069.44444444418),\n",
       " np.float64(575069.444444444),\n",
       " np.float64(918402.7777777772),\n",
       " np.float64(3091736.11111111),\n",
       " np.float64(7608402.777777776)]"
      ]
     },
     "metadata": {},
     "output_type": "display_data"
    }
   ],
   "source": [
    "#elevando as diferenças ao quadrado\n",
    "quadrados_das_diferencas=[x ** 2 for x in diferencas]\n",
    "display(quadrados_das_diferencas)"
   ]
  },
  {
   "cell_type": "code",
   "execution_count": 6,
   "metadata": {},
   "outputs": [
    {
     "name": "stdout",
     "output_type": "stream",
     "text": [
      "1792430.5555555553\n"
     ]
    }
   ],
   "source": [
    "#calcular a média dos quadrados das diferenças\n",
    "variancia=sum(quadrados_das_diferencas)/len(quadrados_das_diferencas)\n",
    "print(variancia)"
   ]
  },
  {
   "cell_type": "code",
   "execution_count": 8,
   "metadata": {},
   "outputs": [
    {
     "name": "stdout",
     "output_type": "stream",
     "text": [
      "1338.816849145377\n"
     ]
    }
   ],
   "source": [
    "#calcular o desvio-padrão (raiz quadrada da variancia)\n",
    "desviopadrao=variancia**0.5\n",
    "print(desviopadrao)"
   ]
  },
  {
   "cell_type": "markdown",
   "metadata": {},
   "source": [
    "**Resumo Estatístico com Numpy e Pandas:**"
   ]
  },
  {
   "cell_type": "code",
   "execution_count": 12,
   "metadata": {},
   "outputs": [
    {
     "name": "stdout",
     "output_type": "stream",
     "text": [
      "1792430.5555555557\n",
      "1338.8168491453773\n"
     ]
    }
   ],
   "source": [
    "#Numpy - cálculo da variância\n",
    "variancia=np.var(amostra)\n",
    "print(variancia)\n",
    "\n",
    "#Numpy - cálculo do desvio-padrão\n",
    "desviopadrao=np.std(amostra)\n",
    "print(desviopadrao)"
   ]
  },
  {
   "cell_type": "code",
   "execution_count": 13,
   "metadata": {},
   "outputs": [
    {
     "name": "stdout",
     "output_type": "stream",
     "text": [
      "1955378.787878788\n",
      "1398.3485931193222\n"
     ]
    }
   ],
   "source": [
    "#Pandas - cálculo da variância\n",
    "amostra2=pd.Series(amostra)\n",
    "variancia=amostra2.var()\n",
    "print(variancia)\n",
    "\n",
    "#Pandas - cálculo do desvio-padrão\n",
    "desviopadrao=amostra2.std()\n",
    "print(desviopadrao)"
   ]
  },
  {
   "cell_type": "markdown",
   "metadata": {},
   "source": [
    "**Coeficiente de Variação e Análise de Dispersão**"
   ]
  },
  {
   "cell_type": "code",
   "execution_count": 17,
   "metadata": {},
   "outputs": [
    {
     "name": "stdout",
     "output_type": "stream",
     "text": [
      "0.3296696093798009\n",
      "10.868205134863054 %\n"
     ]
    }
   ],
   "source": [
    "#coeficiente de variação (cv) é o desvio-padrão dividido pela média\n",
    "coef_variacao=desviopadrao/media\n",
    "print(coef_variacao)\n",
    "\n",
    "#cálculo da distância da variação em relação à média\n",
    "distancia=variancia/(media**2)\n",
    "print(distancia*100,'%')"
   ]
  },
  {
   "cell_type": "markdown",
   "metadata": {},
   "source": [
    "Como eu interpreto isso?\n",
    "\n",
    "1. distância <= 10%: minha dispersão é BAIXA;\n",
    "2. distância > 10% e <= 25%: minha dispersão é MODERADA;\n",
    "3. distância > 25%: minha dispersão é ALTA."
   ]
  }
 ],
 "metadata": {
  "kernelspec": {
   "display_name": "nomedoambientevirtual",
   "language": "python",
   "name": "python3"
  },
  "language_info": {
   "codemirror_mode": {
    "name": "ipython",
    "version": 3
   },
   "file_extension": ".py",
   "mimetype": "text/x-python",
   "name": "python",
   "nbconvert_exporter": "python",
   "pygments_lexer": "ipython3",
   "version": "3.11.4"
  },
  "orig_nbformat": 4
 },
 "nbformat": 4,
 "nbformat_minor": 2
}
